{
  "nbformat": 4,
  "nbformat_minor": 0,
  "metadata": {
    "colab": {
      "name": "text_snnipt_2_Faezeh.ipynb",
      "version": "0.3.2",
      "provenance": [],
      "collapsed_sections": [],
      "include_colab_link": true
    },
    "kernelspec": {
      "name": "python3",
      "display_name": "Python 3"
    },
    "accelerator": "GPU"
  },
  "cells": [
    {
      "cell_type": "markdown",
      "metadata": {
        "id": "view-in-github",
        "colab_type": "text"
      },
      "source": [
        "<a href=\"https://colab.research.google.com/github/fyeganli/SVM-Classification/blob/master/text_snnipt_2_Faezeh.ipynb\" target=\"_parent\"><img src=\"https://colab.research.google.com/assets/colab-badge.svg\" alt=\"Open In Colab\"/></a>"
      ]
    },
    {
      "metadata": {
        "id": "45PvUOcjovUF",
        "colab_type": "code",
        "outputId": "7bdcdb72-c9a3-4a25-9eb8-9e38f1943d53",
        "colab": {
          "base_uri": "https://localhost:8080/",
          "height": 34
        }
      },
      "cell_type": "code",
      "source": [
        "import numpy as np\n",
        "from sklearn.svm import SVC\n",
        "from scipy.io import loadmat\n",
        "data = loadmat('features.mat')\n",
        "print(\"Loaded mat file\")"
      ],
      "execution_count": 0,
      "outputs": [
        {
          "output_type": "stream",
          "text": [
            "Loaded mat file\n"
          ],
          "name": "stdout"
        }
      ]
    },
    {
      "metadata": {
        "id": "4HUvAxvN-LxJ",
        "colab_type": "code",
        "outputId": "0bd9a2f2-f9e0-490f-cb96-ade94a20abdb",
        "colab": {
          "base_uri": "https://localhost:8080/",
          "height": 34
        }
      },
      "cell_type": "code",
      "source": [
        "step_labels_lf = data['step_labels_lf']\n",
        "step_labels_lh = data['step_labels_lh']\n",
        "step_labels_rf = data['step_labels_rf']\n",
        "step_labels_rh = data['step_labels_rh']\n",
        "print(\"Labels loaded\")\n"
      ],
      "execution_count": 0,
      "outputs": [
        {
          "output_type": "stream",
          "text": [
            "Labels loaded\n"
          ],
          "name": "stdout"
        }
      ]
    },
    {
      "metadata": {
        "id": "Iht3yfEOnWBT",
        "colab_type": "code",
        "outputId": "68415d14-d3f3-4867-f69c-04b441de43fd",
        "colab": {
          "base_uri": "https://localhost:8080/",
          "height": 34
        }
      },
      "cell_type": "code",
      "source": [
        "steps_ft_lf = data['step_ft_lf']\n",
        "steps_ft_lh = data['step_ft_lh']\n",
        "steps_ft_rf = data['step_ft_rf']\n",
        "steps_ft_rh = data['step_ft_rh']\n",
        "print(\"Features loaded\")"
      ],
      "execution_count": 0,
      "outputs": [
        {
          "output_type": "stream",
          "text": [
            "Features loaded\n"
          ],
          "name": "stdout"
        }
      ]
    },
    {
      "metadata": {
        "id": "BoW5X-KmncSS",
        "colab_type": "code",
        "outputId": "c3e34b2a-5047-4ce2-eca0-0ee4eb605c4a",
        "colab": {
          "base_uri": "https://localhost:8080/",
          "height": 34
        }
      },
      "cell_type": "code",
      "source": [
        "steps_features_lf = data['step_features_lf']\n",
        "steps_features_lh = data['step_features_lh']\n",
        "steps_features_rf = data['step_features_rf']\n",
        "steps_features_rh = data['step_features_rh']\n",
        "step_no_lf = np.zeros_like(step_labels_lf)\n",
        "step_no_lh = np.zeros_like(step_labels_lh) + 1\n",
        "step_no_rf = np.zeros_like(step_labels_rf) + 2\n",
        "step_no_rh = np.zeros_like(step_labels_rh) + 3\n",
        "step_no = np.concatenate([step_no_lf, step_no_lh, step_no_rf, step_no_rh], 0)\n",
        "print(\"Labels prepared\")"
      ],
      "execution_count": 0,
      "outputs": [
        {
          "output_type": "stream",
          "text": [
            "Labels prepared\n"
          ],
          "name": "stdout"
        }
      ]
    },
    {
      "metadata": {
        "id": "ObP9Amlxnoha",
        "colab_type": "code",
        "outputId": "9bbe21e0-499c-4fbb-a18c-3c0082bff37c",
        "colab": {
          "base_uri": "https://localhost:8080/",
          "height": 34
        }
      },
      "cell_type": "code",
      "source": [
        "labels = np.concatenate([step_labels_lf, step_labels_lh, step_labels_rf, step_labels_rh], 0)\n",
        "labels = np.squeeze(labels, 1)\n",
        "print(\"Data normalization\")"
      ],
      "execution_count": 0,
      "outputs": [
        {
          "output_type": "stream",
          "text": [
            "Data normalization\n"
          ],
          "name": "stdout"
        }
      ]
    },
    {
      "metadata": {
        "id": "I4iSLq4snuS7",
        "colab_type": "code",
        "outputId": "04c1a7db-2f00-4a17-ed3a-8cf7eaf489e7",
        "colab": {
          "base_uri": "https://localhost:8080/",
          "height": 50
        }
      },
      "cell_type": "code",
      "source": [
        "steps = np.concatenate([steps_ft_lf, steps_ft_lh, steps_ft_rf, steps_ft_rh], 0)\n",
        "mean = np.mean(steps, (0, 1))\n",
        "std = np.std(steps, (0, 1))\n",
        "steps = (steps - mean) / std\n",
        "print(\"Features preparation\")\n",
        "features = np.concatenate([steps_features_lf, steps_features_lh, steps_features_rf, steps_features_rh], 0)\n",
        "mean = np.mean(features, 0)\n",
        "std = np.std(features, 0)\n",
        "features = (features - mean) / std\n",
        "features = features.astype(np.float32)\n",
        "print(\"Data split\")\n",
        "split = int(len(labels) * 0.9)\n"
      ],
      "execution_count": 0,
      "outputs": [
        {
          "output_type": "stream",
          "text": [
            "Features preparation\n",
            "Data split\n"
          ],
          "name": "stdout"
        }
      ]
    },
    {
      "metadata": {
        "id": "3bBQ-H21oG5b",
        "colab_type": "code",
        "colab": {}
      },
      "cell_type": "code",
      "source": [
        " def unison_shuffled_copies(a, b, c, d):\n",
        "     p = np.random.permutation(len(a))\n",
        "     return a[p], b[p], c[p], d[p]"
      ],
      "execution_count": 0,
      "outputs": []
    },
    {
      "metadata": {
        "id": "e-_sEZqPoKT7",
        "colab_type": "code",
        "outputId": "be84a362-7223-4c80-cf22-e7ae53e55f5c",
        "colab": {
          "base_uri": "https://localhost:8080/",
          "height": 50
        }
      },
      "cell_type": "code",
      "source": [
        "print(\"Final data prepare\")\n",
        "labels, steps, features, step_no = unison_shuffled_copies(labels, steps, features, step_no)\n",
        "\n",
        "train_labels, val_labels = labels[:split], labels[split:]\n",
        "train_steps, val_steps = steps[:split], steps[split:]\n",
        "train_features, val_features = features[:split], features[split:]\n",
        "train_step_no, val_step_no = step_no[:split], step_no[split:]\n",
        "print(\"Done\")"
      ],
      "execution_count": 0,
      "outputs": [
        {
          "output_type": "stream",
          "text": [
            "Final data prepare\n",
            "Done\n"
          ],
          "name": "stdout"
        }
      ]
    },
    {
      "metadata": {
        "id": "GGCWhwaWof_j",
        "colab_type": "code",
        "outputId": "8ee8359e-aa81-41ce-a314-2fb7e4967a01",
        "colab": {
          "base_uri": "https://localhost:8080/",
          "height": 84
        }
      },
      "cell_type": "code",
      "source": [
        "from sklearn.svm import SVC\n",
        "clf = SVC(kernel='rbf')\n",
        "\n",
        "clf.fit(train_features, train_labels) "
      ],
      "execution_count": 0,
      "outputs": [
        {
          "output_type": "execute_result",
          "data": {
            "text/plain": [
              "SVC(C=1.0, cache_size=200, class_weight=None, coef0=0.0,\n",
              "  decision_function_shape='ovr', degree=3, gamma='auto', kernel='rbf',\n",
              "  max_iter=-1, probability=False, random_state=None, shrinking=True,\n",
              "  tol=0.001, verbose=False)"
            ]
          },
          "metadata": {
            "tags": []
          },
          "execution_count": 22
        }
      ]
    },
    {
      "metadata": {
        "id": "QrSqqCn8qrcc",
        "colab_type": "code",
        "colab": {}
      },
      "cell_type": "code",
      "source": [
        "from sklearn.cross_validation import train_test_split\n",
        "from sklearn.preprocessing import StandardScaler\n",
        "\n",
        "\n",
        "val_features_predictions = clf.predict(val_features)"
      ],
      "execution_count": 0,
      "outputs": []
    },
    {
      "metadata": {
        "id": "b_405mq7qCu7",
        "colab_type": "code",
        "outputId": "06db92a9-9647-4e7a-c3dc-462ed482a11d",
        "colab": {
          "base_uri": "https://localhost:8080/",
          "height": 34
        }
      },
      "cell_type": "code",
      "source": [
        "from sklearn.metrics import accuracy_score\n",
        "print(accuracy_score(val_labels, val_features_predictions))"
      ],
      "execution_count": 0,
      "outputs": [
        {
          "output_type": "stream",
          "text": [
            "0.7418032786885246\n"
          ],
          "name": "stdout"
        }
      ]
    }
  ]
}